{
 "cells": [
  {
   "attachments": {},
   "cell_type": "markdown",
   "metadata": {},
   "source": [
    "# Worksheet 02\n",
    "\n",
    "Name:  Xavier Thomas\n",
    "UID: U72282207\n",
    "\n",
    "### Topics\n",
    "\n",
    "- Effective Programming\n",
    "\n",
    "### Effective Programming\n",
    "\n",
    "a) What is a drawback of the top down approach?"
   ]
  },
  {
   "attachments": {},
   "cell_type": "markdown",
   "metadata": {},
   "source": [
    "- Top down approach focuses on breaking down the problem into smaller parts, this could lead to inefficiency as it focuses on solving sub-problems in isolation."
   ]
  },
  {
   "attachments": {},
   "cell_type": "markdown",
   "metadata": {},
   "source": [
    "b) What is a drawback of the bottom up approach?"
   ]
  },
  {
   "attachments": {},
   "cell_type": "markdown",
   "metadata": {},
   "source": [
    "- Bottom up approach focuses on solving smaller problems and later integrating them as a whole, this could lead to a lack of a clear overall design."
   ]
  },
  {
   "attachments": {},
   "cell_type": "markdown",
   "metadata": {},
   "source": [
    "c) What are 3 things you can do to have a better debugging experience?"
   ]
  },
  {
   "attachments": {},
   "cell_type": "markdown",
   "metadata": {},
   "source": [
    "- Understanding the root cause of the error\n",
    "- Sanity checks\n",
    "- Reaching out/ Searching on communities such as StackOverflow"
   ]
  },
  {
   "cell_type": "code",
   "execution_count": null,
   "metadata": {},
   "outputs": [],
   "source": []
  },
  {
   "attachments": {},
   "cell_type": "markdown",
   "metadata": {},
   "source": [
    "d) Follow along with the live coding. You can write your code here:"
   ]
  },
  {
   "cell_type": "code",
   "execution_count": null,
   "metadata": {},
   "outputs": [],
   "source": [
    "class Board:\n",
    "    def __init__(self):\n",
    "        self.board = [[\"_\" for _ in range(8)] for _ in range(8)]\n",
    "\n",
    "    def __repr__(self):\n",
    "        res = \"\"\n",
    "\n",
    "        for row in self.board:\n",
    "            for col in row:\n",
    "                res += col\n",
    "                res += \" \"\n",
    "            res += \"\\n\"\n",
    "        return res\n",
    "\n",
    "    def is_legal_row(self,row,col):\n",
    "        for j in range(len(self.board)):\n",
    "            if self.board[row][j] == \"Q\":\n",
    "                return False\n",
    "        return True\n",
    "\n",
    "    def is_legal_col(self,row,col):\n",
    "        for i in range(len(self.board)):\n",
    "            if self.board[i][col] == \"Q\":\n",
    "                return False\n",
    "        return True\n",
    "\n",
    "    def is_on_board(self,row,col):\n",
    "        return row >= 0 and row < 8 and col >= 0 and col <8\n",
    "\n",
    "    def is_legal_diag(self,row,col):\n",
    "        for i in range(len(self.board)):\n",
    "            if self.is_on_board(row-i, col-i) and self.board[row-i][col-i] == \"Q\":\n",
    "                return False\n",
    "            if self.is_on_board(row-i, col+i) and self.board[row-i][col+i] == \"Q\":\n",
    "                return False\n",
    "            if self.is_on_board(row+i, col-i) and self.board[row+i][col-i] == \"Q\":\n",
    "                return False\n",
    "            if self.is_on_board(row+i, col+i) and self.board[row+i][col+i] == \"Q\":\n",
    "                return False\n",
    "        return True\n",
    "\n",
    "\n",
    "    def is_legal(self,row,col):\n",
    "        if not self.is_legal_row(row,col):\n",
    "            return False\n",
    "        if not self.is_legal_col(row,col):\n",
    "             return False\n",
    "        if not self.is_legal_diag(row,col):\n",
    "            return False\n",
    "        return True\n",
    "\n",
    "    def set_queen_at(self,row,col):\n",
    "        self.board[row][col] = \"Q\"\n",
    "\n",
    "    def unset_queen_on(self,row):\n",
    "        self.board[row] = [\"_\" for _ in range(8)]\n",
    "\n",
    "    def get_queen_on(self,row):\n",
    "        for col in range(len(self.board)):\n",
    "            if self.board[row][col] == \"Q\":\n",
    "                return col\n",
    "        raise ValueError(\"Programming error\")\n",
    "\n",
    "    def search(self):\n",
    "        row = 0\n",
    "        col = 0\n",
    "\n",
    "        while row >= 0:\n",
    "            if row < 8:\n",
    "                if self.is_legal(row,col):\n",
    "                    self.set_queen_at(row,col)\n",
    "                    row += 1\n",
    "                    col = 0\n",
    "                else:\n",
    "                    col +=1\n",
    "                    while col >= 8:\n",
    "                        col = self.get_queen_on(row-1)\n",
    "                        self.unset_queen_on(row-1)\n",
    "                        col += 1\n",
    "                        row -= 1\n",
    "\n",
    "            else:\n",
    "                print(\"Found a solution\")\n",
    "                print(self)\n",
    "                while col >= 8:\n",
    "                    col = self.get_queen_on(row-1)\n",
    "                    self.unset_queen_on(row-1)\n",
    "                    col += 1\n",
    "                    row -= 1\n",
    "        print(\"No more solutions\")\n",
    "\n",
    "my_board = Board()\n",
    "print (my_board.search())"
   ]
  },
  {
   "cell_type": "code",
   "execution_count": null,
   "metadata": {},
   "outputs": [],
   "source": []
  }
 ],
 "metadata": {
  "kernelspec": {
   "display_name": "Python 3",
   "language": "python",
   "name": "python3"
  },
  "language_info": {
   "codemirror_mode": {
    "name": "ipython",
    "version": 3
   },
   "file_extension": ".py",
   "mimetype": "text/x-python",
   "name": "python",
   "nbconvert_exporter": "python",
   "pygments_lexer": "ipython3",
   "version": "3.11.4"
  },
  "orig_nbformat": 4,
  "vscode": {
   "interpreter": {
    "hash": "76ca05dc3ea24b2e3b98cdb7774adfbb40773424bf5109b477fd793f623715af"
   }
  }
 },
 "nbformat": 4,
 "nbformat_minor": 2
}
