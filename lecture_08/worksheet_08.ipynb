{
 "cells": [
  {
   "attachments": {},
   "cell_type": "markdown",
   "metadata": {},
   "source": [
    "# Worksheet 08\n",
    "\n",
    "Name:  \n",
    "UID: \n",
    "\n",
    "### Topics\n",
    "\n",
    "- Soft Clustering\n",
    "- Clustering Aggregation\n",
    "\n",
    "### Probability Review\n",
    "\n",
    "Read through [the following](https://medium.com/@gallettilance/overview-of-probability-3272b72c82c8)\n",
    "\n",
    "### Soft Clustering\n",
    "\n",
    "We generate 10 data points that come from a normal distribution with mean 5 and variance 1."
   ]
  },
  {
   "cell_type": "code",
   "execution_count": 43,
   "metadata": {},
   "outputs": [
    {
     "name": "stdout",
     "output_type": "stream",
     "text": [
      "[5.921945647154406, 5.734093711864335, 5.179595749456672, 5.41548951127398, 8.048039917313872, 4.940694023249918, 5.519081867382752, 3.3820196640373306, 3.7857013174678062, 4.680525119943022]\n"
     ]
    }
   ],
   "source": [
    "import random\n",
    "import numpy as np\n",
    "from sklearn.cluster import KMeans\n",
    "\n",
    "mean = 5\n",
    "stdev = 1\n",
    "\n",
    "s1 = np.random.normal(mean, stdev, 10).tolist()\n",
    "print(s1)"
   ]
  },
  {
   "attachments": {},
   "cell_type": "markdown",
   "metadata": {},
   "source": [
    "a) Generate 10 more data points, this time coming from a normal distribution with mean 8 and variance 1."
   ]
  },
  {
   "cell_type": "code",
   "execution_count": 44,
   "metadata": {},
   "outputs": [
    {
     "name": "stdout",
     "output_type": "stream",
     "text": [
      "[9.615496228832093, 7.936116279898326, 7.861616573328665, 8.924757180660473, 9.017070923408541, 8.18019234705216, 8.021606351236032, 6.797770447668544, 6.854210950743029, 8.5927870360461]\n"
     ]
    }
   ],
   "source": [
    "s2 = np.random.normal( 8, 1, 10 ).tolist()\n",
    "print(s2)"
   ]
  },
  {
   "attachments": {},
   "cell_type": "markdown",
   "metadata": {},
   "source": [
    "b) Flip a fair coin 10 times. If the coin lands on H, then pick the last data point of `c1` and remove it from `c1`, if T then pick the last data point from `c2` and remove it from `c2`. Add these 10 points to a list called `data`."
   ]
  },
  {
   "cell_type": "code",
   "execution_count": 45,
   "metadata": {},
   "outputs": [
    {
     "name": "stdout",
     "output_type": "stream",
     "text": [
      "[8.5927870360461, 4.680525119943022, 3.7857013174678062, 6.854210950743029, 3.3820196640373306, 6.797770447668544, 8.021606351236032, 8.18019234705216, 9.017070923408541, 5.519081867382752]\n"
     ]
    }
   ],
   "source": [
    "data = []\n",
    "for i in range(10):\n",
    "    # flip coin\n",
    "    coin_output = random.choice([0, 1])\n",
    "    if coin_output == 0:\n",
    "        p1 = s1.pop()\n",
    "        data.append(p1)\n",
    "    else:\n",
    "        p2 = s2.pop()\n",
    "        data.append(p2)\n",
    "print(data)"
   ]
  },
  {
   "attachments": {},
   "cell_type": "markdown",
   "metadata": {},
   "source": [
    "c) This `data` is a Gaussian Mixture Distribution with 2 mixture components. Over the next few questions we will walk through the GMM algorithm to see if we can uncover the parameters we used to generate this data. First, please list all these parameters of the GMM that created `data` and the values we know they have."
   ]
  },
  {
   "attachments": {},
   "cell_type": "markdown",
   "metadata": {},
   "source": [
    "mean_1 = 5; variance_1 = 1; P(S_1) = 0.5 \n",
    "\n",
    "mean_2 = 8; variance_2 = 1; P(S_2) = 0.5"
   ]
  },
  {
   "attachments": {},
   "cell_type": "markdown",
   "metadata": {},
   "source": [
    "d) Let's assume there are two mixture components (note: we could plot the data and make the observation that there are two clusters). The EM algorithm asks us to start with a random `mean_j`, `variance_j`, `P(S_j)` for each component j. One method we could use to find sensible values for these is to apply K means with k=2 here.\n",
    "\n",
    "1. the centroids would be the estimates of the `mean_j`\n",
    "2. the intra-cluster variance could be the estimate of `variance_j`\n",
    "3. the proportion of points in each cluster could be the estimate of `P(S_j)`\n",
    "\n",
    "Go through this process and list the parameter estimates it gives. Are they close or far from the true values?"
   ]
  },
  {
   "cell_type": "code",
   "execution_count": 46,
   "metadata": {},
   "outputs": [
    {
     "name": "stdout",
     "output_type": "stream",
     "text": [
      "[8.5927870360461, 6.854210950743029, 6.797770447668544, 8.021606351236032, 8.18019234705216, 9.017070923408541]\n",
      "[4.680525119943022, 3.7857013174678062, 3.3820196640373306, 5.519081867382752]\n",
      "P(S_1) = 0.6,  P(S_2) = 0.4\n",
      "mean_1 = 7.910606342692401,  mean_2 = 4.3418319922077275\n",
      "var_1 = 0.6881678226321067,  var_2 = 0.6827878340173213\n"
     ]
    },
    {
     "name": "stderr",
     "output_type": "stream",
     "text": [
      "/Users/xavierohan/anaconda3/envs/mlproject/lib/python3.8/site-packages/sklearn/cluster/_kmeans.py:1416: FutureWarning: The default value of `n_init` will change from 10 to 'auto' in 1.4. Set the value of `n_init` explicitly to suppress the warning\n",
      "  super()._check_params_vs_input(X, default_n_init=10)\n"
     ]
    }
   ],
   "source": [
    "kmeans = KMeans(2, init='k-means++').fit(X=np.array(data).reshape(-1, 1))\n",
    "\n",
    "s1 = [x[0] for x in filter(lambda x: x[1] == 0, zip(data, kmeans.labels_))]\n",
    "print(s1)\n",
    "s2 =  [x[0] for x in filter(lambda x: x[1] == 1, zip(data, kmeans.labels_))]\n",
    "print(s2)\n",
    "\n",
    "prob_s = [ len(s1) / (len(s1) + len(s2)) , len(s2) / (len(s1) + len(s2)) ]\n",
    "mean = [ sum(s1)/len(s1) , sum(s2)/len(s2) ]\n",
    "var = [ sum(map(lambda x : (x - mean[0])**2, s1)) / len(s1) , sum(map(lambda x : (x - mean[1])**2, s2)) / len(s2) ]\n",
    "\n",
    "print(\"P(S_1) = \" + str(prob_s[0]) + \",  P(S_2) = \" + str(prob_s[1]))\n",
    "print(\"mean_1 = \" + str(mean[0]) + \",  mean_2 = \" + str(mean[1]))\n",
    "print(\"var_1 = \" + str(var[0]) + \",  var_2 = \" + str(var[1]))"
   ]
  },
  {
   "attachments": {},
   "cell_type": "markdown",
   "metadata": {},
   "source": [
    "It is close to the true values"
   ]
  },
  {
   "attachments": {},
   "cell_type": "markdown",
   "metadata": {},
   "source": [
    "e) For each data point, compute `P(S_j | X_i)`. Comment on which cluster you think each point belongs to based on the estimated probabilities. How does that compare to the truth?"
   ]
  },
  {
   "cell_type": "code",
   "execution_count": 47,
   "metadata": {},
   "outputs": [
    {
     "name": "stdout",
     "output_type": "stream",
     "text": [
      "point =  8.5927870360461\n",
      "probability of observing that point if it came from cluster 0 =  0.3546748814827167\n",
      "probability of observing that point if it came from cluster 1 =  2.2369385615856214e-09\n",
      "point =  4.680525119943022\n",
      "probability of observing that point if it came from cluster 0 =  9.532379143238585e-06\n",
      "probability of observing that point if it came from cluster 1 =  0.5166459350712531\n",
      "point =  3.7857013174678062\n",
      "probability of observing that point if it came from cluster 0 =  9.150383892386778e-09\n",
      "probability of observing that point if it came from cluster 1 =  0.4193402932157218\n",
      "point =  6.854210950743029\n",
      "probability of observing that point if it came from cluster 0 =  0.17844811623617607\n",
      "probability of observing that point if it came from cluster 1 =  0.0006707883163890778\n",
      "point =  3.3820196640373306\n",
      "probability of observing that point if it came from cluster 0 =  2.2892050478143019e-10\n",
      "probability of observing that point if it came from cluster 1 =  0.21753410439307624\n",
      "point =  6.797770447668544\n",
      "probability of observing that point if it came from cluster 0 =  0.15680982525695566\n",
      "probability of observing that point if it came from cluster 1 =  0.0009061445001397169\n",
      "point =  8.021606351236032\n",
      "probability of observing that point if it came from cluster 0 =  0.5722241503317702\n",
      "probability of observing that point if it came from cluster 1 =  2.881314646206502e-07\n",
      "point =  8.18019234705216\n",
      "probability of observing that point if it came from cluster 0 =  0.5368975994047617\n",
      "probability of observing that point if it came from cluster 1 =  8.021439041310879e-08\n",
      "point =  9.017070923408541\n",
      "probability of observing that point if it came from cluster 0 =  0.15916837738611378\n",
      "probability of observing that point if it came from cluster 1 =  3.851460400672883e-11\n",
      "point =  5.519081867382752\n",
      "probability of observing that point if it came from cluster 0 =  0.0013826656897702975\n",
      "probability of observing that point if it came from cluster 1 =  0.13215660593277256\n",
      "8.5927870360461\n",
      "Probability of coming from S_1 = 0.9999999957953257\n",
      "Probability of coming from S_2 = 4.20467432564064e-09\n",
      "\n",
      "4.680525119943022\n",
      "Probability of coming from S_1 = 2.7674993707415384e-05\n",
      "Probability of coming from S_2 = 0.9999723250062925\n",
      "\n",
      "3.7857013174678062\n",
      "Probability of coming from S_1 = 3.273135353645261e-08\n",
      "Probability of coming from S_2 = 0.9999999672686465\n",
      "\n",
      "6.854210950743029\n",
      "Probability of coming from S_1 = 0.997500257470093\n",
      "Probability of coming from S_2 = 0.002499742529906998\n",
      "\n",
      "3.3820196640373306\n",
      "Probability of coming from S_1 = 1.578514585509025e-09\n",
      "Probability of coming from S_2 = 0.9999999984214855\n",
      "\n",
      "6.797770447668544\n",
      "Probability of coming from S_1 = 0.9961623703461346\n",
      "Probability of coming from S_2 = 0.0038376296538653013\n",
      "\n",
      "8.021606351236032\n",
      "Probability of coming from S_1 = 0.9999996643141005\n",
      "Probability of coming from S_2 = 3.3568589946430895e-07\n",
      "\n",
      "8.18019234705216\n",
      "Probability of coming from S_1 = 0.9999999003976643\n",
      "Probability of coming from S_2 = 9.960233573093373e-08\n",
      "\n",
      "9.017070923408541\n",
      "Probability of coming from S_1 = 0.999999999838684\n",
      "Probability of coming from S_2 = 1.613159792709592e-10\n",
      "\n",
      "5.519081867382752\n",
      "Probability of coming from S_1 = 0.015451010914271163\n",
      "Probability of coming from S_2 = 0.9845489890857287\n",
      "\n"
     ]
    }
   ],
   "source": [
    "from scipy.stats import norm\n",
    "\n",
    "prob_s0_x = [] # P(S_0 | X_i)\n",
    "prob_s1_x = [] # P(S_1 | X_i)\n",
    "prob_x = [] # P(X_i)\n",
    "\n",
    "k = 2\n",
    "\n",
    "for p in data:\n",
    "    print(\"point = \", p)\n",
    "    pdf_i = []\n",
    "\n",
    "    for j in range(k):\n",
    "        # P(X_i | S_j)\n",
    "        pdf_i.append(norm.pdf(p, mean[j], var[j]))\n",
    "        print(\"probability of observing that point if it came from cluster \" + str(j) + \" = \", pdf_i[j])\n",
    "        # P(S_j) already computed\n",
    "        prob_s[j]\n",
    "\n",
    "    # P(X_i) = P(S_0)P(X_i | S_0) + P(S_1)P(X_i | S_1)\n",
    "    prob_x = prob_s[0] * pdf_i[0] + prob_s[1] * pdf_i[1]\n",
    "\n",
    "    # P(S_j | X_i) = P(X_i | S_j)P(S_j) / P(X_i)\n",
    "    prob_s0_x.append( (pdf_i[0] * prob_s[0]) / prob_x)\n",
    "    prob_s1_x.append( (pdf_i[1] * prob_s[1]) / prob_x )\n",
    "\n",
    "probs = zip(data, prob_s0_x, prob_s1_x)\n",
    "for p in probs:\n",
    "    print(p[0])\n",
    "    print(\"Probability of coming from S_1 = \" + str(p[1]))\n",
    "    print(\"Probability of coming from S_2 = \" + str(p[2]))\n",
    "    print()\n"
   ]
  },
  {
   "attachments": {},
   "cell_type": "markdown",
   "metadata": {},
   "source": [
    "Even though the probability values are not matching with the ground truth, the maximum probability is given to the same cluster for both"
   ]
  },
  {
   "attachments": {},
   "cell_type": "markdown",
   "metadata": {},
   "source": [
    "f) Having computed `P(S_j | X_i)`, update the estimates of `mean_j`, `var_j`, and `P(S_j)`. How different are these values from the original ones you got from K means? briefly comment."
   ]
  },
  {
   "cell_type": "code",
   "execution_count": 48,
   "metadata": {},
   "outputs": [
    {
     "name": "stdout",
     "output_type": "stream",
     "text": [
      "P(S_1) = 0.6,  P(S_2) = 0.4\n",
      "mean_1 = 7.905592364070848,  mean_2 = 4.341207531343438\n",
      "var_1 = 0.7005948807247331,  var_2 = 0.688740061039152\n"
     ]
    }
   ],
   "source": [
    "prob_c = [sum(prob_s0_x)/ len(prob_s0_x), sum(prob_s1_x)/ len(prob_s1_x) ]\n",
    "mean = [sum([x[0] * x[1] for x in zip(prob_s0_x, data)]) / sum(prob_s0_x), sum([x[0] * x[1] for x in zip(prob_s1_x, data)]) / sum(prob_s1_x) ]\n",
    "var = [ sum(prob_s0_x[i] * (data[i] - mean[0])**2 for i in range(len(data))) / sum(prob_s0_x) , sum(prob_s1_x[i] * (data[i] - mean[1])**2 for i in range(len(data))) / sum(prob_s1_x) ]\n",
    "\n",
    "print(\"P(S_1) = \" + str(prob_s[0]) + \",  P(S_2) = \" + str(prob_s[1]))\n",
    "print(\"mean_1 = \" + str(mean[0]) + \",  mean_2 = \" + str(mean[1]))\n",
    "print(\"var_1 = \" + str(var[0]) + \",  var_2 = \" + str(var[1]))"
   ]
  },
  {
   "attachments": {},
   "cell_type": "markdown",
   "metadata": {},
   "source": [
    "The values are not too far away from the values obtained from Kmeans\n"
   ]
  },
  {
   "attachments": {},
   "cell_type": "markdown",
   "metadata": {},
   "source": [
    "g) Update `P(S_j | X_i)`. Comment on any differences or lack thereof you observe."
   ]
  },
  {
   "cell_type": "code",
   "execution_count": 49,
   "metadata": {},
   "outputs": [
    {
     "name": "stdout",
     "output_type": "stream",
     "text": [
      "point =  8.5927870360461\n",
      "probability of observing that point if it came from cluster 0 =  0.35198416985847936\n",
      "probability of observing that point if it came from cluster 1 =  3.078276003419022e-09\n",
      "point =  4.680525119943022\n",
      "probability of observing that point if it came from cluster 0 =  1.4254723608104276e-05\n",
      "probability of observing that point if it came from cluster 1 =  0.5130375684771855\n",
      "point =  3.7857013174678062\n",
      "probability of observing that point if it came from cluster 0 =  1.7630898915505395e-08\n",
      "probability of observing that point if it came from cluster 1 =  0.41840222342888617\n",
      "point =  6.854210950743029\n",
      "probability of observing that point if it came from cluster 0 =  0.18467449935170488\n",
      "probability of observing that point if it came from cluster 1 =  0.0007446918152725693\n",
      "point =  3.3820196640373306\n",
      "probability of observing that point if it came from cluster 0 =  5.04231754501455e-10\n",
      "probability of observing that point if it came from cluster 1 =  0.21962965290123776\n",
      "point =  6.797770447668544\n",
      "probability of observing that point if it came from cluster 0 =  0.16311448365752937\n",
      "probability of observing that point if it came from cluster 1 =  0.0010008592889038251\n",
      "point =  8.021606351236032\n",
      "probability of observing that point if it came from cluster 0 =  0.5616796168650837\n",
      "probability of observing that point if it came from cluster 1 =  3.6497183499430365e-07\n",
      "point =  8.18019234705216\n",
      "probability of observing that point if it came from cluster 0 =  0.5273311935154121\n",
      "probability of observing that point if it came from cluster 1 =  1.0384545565096291e-07\n",
      "point =  9.017070923408541\n",
      "probability of observing that point if it came from cluster 0 =  0.1617716154056226\n",
      "probability of observing that point if it came from cluster 1 =  5.680607486885506e-11\n",
      "point =  5.519081867382752\n",
      "probability of observing that point if it came from cluster 0 =  0.0017208903986891497\n",
      "probability of observing that point if it came from cluster 1 =  0.1342009380963668\n",
      "8.5927870360461\n",
      "Probability of coming from S_1 = 0.9999999941696696\n",
      "Probability of coming from S_2 = 5.830330355878076e-09\n",
      "\n",
      "4.680525119943022\n",
      "Probability of coming from S_1 = 4.167568929205847e-05\n",
      "Probability of coming from S_2 = 0.9999583243107079\n",
      "\n",
      "3.7857013174678062\n",
      "Probability of coming from S_1 = 6.320794972097846e-08\n",
      "Probability of coming from S_2 = 0.9999999367920502\n",
      "\n",
      "6.854210950743029\n",
      "Probability of coming from S_1 = 0.9973189035220467\n",
      "Probability of coming from S_2 = 0.002681096477953351\n",
      "\n",
      "3.3820196640373306\n",
      "Probability of coming from S_1 = 3.4437409482572407e-09\n",
      "Probability of coming from S_2 = 0.999999996556259\n",
      "\n",
      "6.797770447668544\n",
      "Probability of coming from S_1 = 0.9959260440483433\n",
      "Probability of coming from S_2 = 0.004073955951656792\n",
      "\n",
      "8.021606351236032\n",
      "Probability of coming from S_1 = 0.9999995668091846\n",
      "Probability of coming from S_2 = 4.331908154674632e-07\n",
      "\n",
      "8.18019234705216\n",
      "Probability of coming from S_1 = 0.9999998687157226\n",
      "Probability of coming from S_2 = 1.3128427737593117e-07\n",
      "\n",
      "9.017070923408541\n",
      "Probability of coming from S_1 = 0.9999999997659\n",
      "Probability of coming from S_2 = 2.3409988504729323e-10\n",
      "\n",
      "5.519081867382752\n",
      "Probability of coming from S_1 = 0.01887185764875465\n",
      "Probability of coming from S_2 = 0.9811281423512453\n",
      "\n"
     ]
    }
   ],
   "source": [
    "from scipy.stats import norm\n",
    "\n",
    "prob_s0_x = [] # P(S_0 | X_i)\n",
    "prob_s1_x = [] # P(S_1 | X_i)\n",
    "prob_x = [] # P(X_i)\n",
    "\n",
    "k = 2\n",
    "\n",
    "for p in data:\n",
    "    print(\"point = \", p)\n",
    "    pdf_i = []\n",
    "\n",
    "    for j in range(k):\n",
    "        # P(X_i | S_j)\n",
    "        pdf_i.append(norm.pdf(p, mean[j], var[j]))\n",
    "        print(\"probability of observing that point if it came from cluster \" + str(j) + \" = \", pdf_i[j])\n",
    "        # P(S_j) already computed\n",
    "        prob_s[j]\n",
    "\n",
    "    # P(X_i) = P(S_0)P(X_i | S_0) + P(S_1)P(X_i | S_1)\n",
    "    prob_x = prob_s[0] * pdf_i[0] + prob_s[1] * pdf_i[1]\n",
    "\n",
    "    # P(S_j | X_i) = P(X_i | S_j)P(S_j) / P(X_i)\n",
    "    prob_s0_x.append( (pdf_i[0] * prob_s[0]) / prob_x)\n",
    "    prob_s1_x.append( (pdf_i[1] * prob_s[1]) / prob_x )\n",
    "\n",
    "probs = zip(data, prob_s0_x, prob_s1_x)\n",
    "for p in probs:\n",
    "    print(p[0])\n",
    "    print(\"Probability of coming from S_1 = \" + str(p[1]))\n",
    "    print(\"Probability of coming from S_2 = \" + str(p[2]))\n",
    "    print()\n"
   ]
  },
  {
   "attachments": {},
   "cell_type": "markdown",
   "metadata": {},
   "source": [
    "The probabilities have a higher value at the clusters that had higher probability."
   ]
  },
  {
   "attachments": {},
   "cell_type": "markdown",
   "metadata": {},
   "source": [
    "h) Use `P(S_j | X_i)` to create a hard assignment - label each point as belonging to a specific cluster (0 or 1)"
   ]
  },
  {
   "cell_type": "code",
   "execution_count": 50,
   "metadata": {},
   "outputs": [
    {
     "name": "stdout",
     "output_type": "stream",
     "text": [
      "Data Point: 8.5927870360461\n",
      "Assigned Cluster: 0\n",
      "\n",
      "Data Point: 4.680525119943022\n",
      "Assigned Cluster: 1\n",
      "\n",
      "Data Point: 3.7857013174678062\n",
      "Assigned Cluster: 1\n",
      "\n",
      "Data Point: 6.854210950743029\n",
      "Assigned Cluster: 0\n",
      "\n",
      "Data Point: 3.3820196640373306\n",
      "Assigned Cluster: 1\n",
      "\n",
      "Data Point: 6.797770447668544\n",
      "Assigned Cluster: 0\n",
      "\n",
      "Data Point: 8.021606351236032\n",
      "Assigned Cluster: 0\n",
      "\n",
      "Data Point: 8.18019234705216\n",
      "Assigned Cluster: 0\n",
      "\n",
      "Data Point: 9.017070923408541\n",
      "Assigned Cluster: 0\n",
      "\n",
      "Data Point: 5.519081867382752\n",
      "Assigned Cluster: 1\n",
      "\n"
     ]
    }
   ],
   "source": [
    "hard_assignments = [0 if prob_s0_x[i] > prob_s1_x[i] else 1 for i in range(len(data))]\n",
    "\n",
    "# Print the hard assignments\n",
    "for i in range(len(data)):\n",
    "    print(\"Data Point:\", data[i])\n",
    "    print(\"Assigned Cluster:\", hard_assignments[i])\n",
    "    print()"
   ]
  }
 ],
 "metadata": {
  "kernelspec": {
   "display_name": "Python 3",
   "language": "python",
   "name": "python3"
  },
  "language_info": {
   "codemirror_mode": {
    "name": "ipython",
    "version": 3
   },
   "file_extension": ".py",
   "mimetype": "text/x-python",
   "name": "python",
   "nbconvert_exporter": "python",
   "pygments_lexer": "ipython3",
   "version": "3.8.18"
  },
  "orig_nbformat": 4,
  "vscode": {
   "interpreter": {
    "hash": "e7370f93d1d0cde622a1f8e1c04877d8463912d04d973331ad4851f04de6915a"
   }
  }
 },
 "nbformat": 4,
 "nbformat_minor": 2
}
