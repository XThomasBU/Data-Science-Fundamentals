{
 "cells": [
  {
   "attachments": {},
   "cell_type": "markdown",
   "metadata": {},
   "source": [
    "# Worksheet 14\n",
    "\n",
    "Name:  Xavier Thomas\n",
    "UID: U72282207\n",
    "\n",
    "### Topics\n",
    "\n",
    "- Naive Bayes\n",
    "- Model Evaluation\n",
    "\n",
    "### Naive Bayes\n",
    "\n",
    "| Attribute A | Attribute B | Attribute C | Class |\n",
    "|-------------|-------------|-------------|-------|\n",
    "| Yes         | Single      | High        | No    |\n",
    "| No          | Married     | Mid         | No    |\n",
    "| No          | Single      | Low         | No    |\n",
    "| Yes         | Married     | High        | No    |\n",
    "| No          | Divorced    | Mid         | Yes   |\n",
    "| No          | Married     | Low         | No    |\n",
    "| Yes         | Divorced    | High        | No    |\n",
    "| No          | Single      | Mid         | Yes   |\n",
    "| No          | Married     | Low         | No    |\n",
    "| No          | Single      | Mid         | Yes   |\n",
    "\n",
    "a) Compute the following probabilities:\n",
    "\n",
    "- P(Attribute A = Yes | Class = No)\n",
    "- P(Attribute B = Divorced | Class = Yes)\n",
    "- P(Attribute C = High | Class = No)\n",
    "- P(Attribute C = Mid | Class = Yes)"
   ]
  },
  {
   "attachments": {},
   "cell_type": "markdown",
   "metadata": {},
   "source": [
    "P(Attribute A = Yes | Class = No) = 3/7  \n",
    "P(Attribute B = Divorced | Class = Yes) = 1/3  \n",
    "P(Attribute C = High | Class = No) = 3/7  \n",
    "P(Attribute C = Mid | Class = Yes) = 3/3=1  "
   ]
  },
  {
   "attachments": {},
   "cell_type": "markdown",
   "metadata": {},
   "source": [
    "b) Classify the following unseen records:\n",
    "\n",
    "- (Yes, Married, Mid)\n",
    "- (No, Divorced, High)\n",
    "- (No, Single, High)\n",
    "- (No, Divorced, Low)"
   ]
  },
  {
   "attachments": {},
   "cell_type": "markdown",
   "metadata": {},
   "source": [
    "(Yes, Married, Mid) - No\n",
    "(No, Divorced, High) - No\n",
    "(No, Single, High) - Yes\n",
    "(No, Divorced, Low) - No"
   ]
  },
  {
   "attachments": {},
   "cell_type": "markdown",
   "metadata": {},
   "source": [
    "### Model Evaluation\n",
    "\n",
    "a) Write a function to generate the confusion matrix for a list of actual classes and a list of predicted classes"
   ]
  },
  {
   "cell_type": "code",
   "execution_count": 4,
   "metadata": {},
   "outputs": [
    {
     "name": "stdout",
     "output_type": "stream",
     "text": [
      "{'True Positives': 2, 'True Negatives': 4, 'False Positives': 3, 'False Negatives': 1}\n"
     ]
    }
   ],
   "source": [
    "actual_class = [\"Yes\", \"No\", \"No\", \"Yes\", \"No\", \"No\", \"Yes\", \"No\", \"No\", \"No\"]\n",
    "predicted_class = [\"Yes\", \"No\", \"Yes\", \"No\", \"No\", \"No\", \"Yes\", \"Yes\", \"Yes\", \"No\"]\n",
    "\n",
    "def confusion_matrix(actual, predicted):\n",
    "    true_positives = 0\n",
    "    true_negatives = 0\n",
    "    false_positives = 0\n",
    "    false_negatives = 0\n",
    "\n",
    "    for i in range(len(actual)):\n",
    "        if actual[i] == \"Yes\" and predicted[i] == \"Yes\":\n",
    "            true_positives += 1\n",
    "        elif actual[i] == \"No\" and predicted[i] == \"No\":\n",
    "            true_negatives += 1\n",
    "        elif actual[i] == \"No\" and predicted[i] == \"Yes\":\n",
    "            false_positives += 1\n",
    "        elif actual[i] == \"Yes\" and predicted[i] == \"No\":\n",
    "            false_negatives += 1\n",
    "\n",
    "    confusion_matrix = {\n",
    "        \"True Positives\": true_positives,\n",
    "        \"True Negatives\": true_negatives,\n",
    "        \"False Positives\": false_positives,\n",
    "        \"False Negatives\": false_negatives,\n",
    "    }\n",
    "    return confusion_matrix\n",
    "\n",
    "print(confusion_matrix(actual_class, predicted_class))"
   ]
  },
  {
   "attachments": {},
   "cell_type": "markdown",
   "metadata": {},
   "source": [
    "b) Assume you have the following Cost Matrix:\n",
    "\n",
    "|            | predicted = Y | predicted = N |\n",
    "|------------|---------------|---------------|\n",
    "| actual = Y |       -1      |       5       |\n",
    "| actual = N |        10     |       0       |\n",
    "\n",
    "What is the cost of the above classification?"
   ]
  },
  {
   "attachments": {},
   "cell_type": "markdown",
   "metadata": {},
   "source": [
    "Cost = (2 * -1) + (4 * 0) + (1 * 5) + (3 * 10)\n",
    "\n",
    "Cost = -2 + 0 + 5 + 30\n",
    "\n",
    "Cost = 33"
   ]
  },
  {
   "attachments": {},
   "cell_type": "markdown",
   "metadata": {},
   "source": [
    "c) Write a function that takes in the actual values, the predictions, and a cost matrix and outputs a cost. Test it on the above example."
   ]
  },
  {
   "cell_type": "code",
   "execution_count": 5,
   "metadata": {},
   "outputs": [
    {
     "name": "stdout",
     "output_type": "stream",
     "text": [
      "Total Cost: 33\n"
     ]
    }
   ],
   "source": [
    "def calculate_cost(actual, predicted, cost_matrix):\n",
    "    if len(actual) != len(predicted):\n",
    "        raise ValueError(\"Input lists 'actual' and 'predicted' must have the same length.\")\n",
    "\n",
    "    total_cost = 0\n",
    "\n",
    "    for i in range(len(actual)):\n",
    "        actual_label = actual[i]\n",
    "        predicted_label = predicted[i]\n",
    "        total_cost += cost_matrix[actual_label][predicted_label]\n",
    "\n",
    "    return total_cost\n",
    "\n",
    "\n",
    "cost_matrix = {\n",
    "    \"Y\": {\"Y\": -1, \"N\": 5},\n",
    "    \"N\": {\"Y\": 10, \"N\": 0}\n",
    "}\n",
    "\n",
    "# Example \n",
    "actual_class = [\"Y\", \"N\", \"N\", \"Y\", \"N\", \"N\", \"Y\", \"N\", \"N\", \"N\"]\n",
    "predicted_class = [\"Y\", \"N\", \"Y\", \"N\", \"N\", \"N\", \"Y\", \"Y\", \"Y\", \"N\"]\n",
    "\n",
    "result = calculate_cost(actual_class, predicted_class, cost_matrix)\n",
    "print(\"Total Cost:\", result)"
   ]
  },
  {
   "attachments": {},
   "cell_type": "markdown",
   "metadata": {},
   "source": [
    "d) Implement functions for the following:\n",
    "\n",
    "- accuracy\n",
    "- precision\n",
    "- recall\n",
    "- f-measure\n",
    "\n",
    "and apply them to the above example."
   ]
  },
  {
   "cell_type": "code",
   "execution_count": 6,
   "metadata": {},
   "outputs": [
    {
     "name": "stdout",
     "output_type": "stream",
     "text": [
      "Accuracy: 0.6\n",
      "Precision: 0.4\n",
      "Recall: 0.6666666666666666\n",
      "F1 Score: 0.5\n"
     ]
    }
   ],
   "source": [
    "def accuracy(actual, predicted):\n",
    "    correct = sum(1 for a, p in zip(actual, predicted) if a == p)\n",
    "    total = len(actual)\n",
    "    return correct / total\n",
    "\n",
    "def precision(actual, predicted):\n",
    "    true_positives = sum(1 for a, p in zip(actual, predicted) if a == p and a == \"Y\")\n",
    "    false_positives = sum(1 for a, p in zip(actual, predicted) if a != p and p == \"Y\")\n",
    "    return true_positives / (true_positives + false_positives)\n",
    "\n",
    "def recall(actual, predicted):\n",
    "    true_positives = sum(1 for a, p in zip(actual, predicted) if a == p and a == \"Y\")\n",
    "    false_negatives = sum(1 for a, p in zip(actual, predicted) if a == \"Y\" and p == \"N\")\n",
    "    return true_positives / (true_positives + false_negatives)\n",
    "\n",
    "def f_measure(actual, predicted):\n",
    "    precision_value = precision(actual, predicted)\n",
    "    recall_value = recall(actual, predicted)\n",
    "    return 2 * (precision_value * recall_value) / (precision_value + recall_value)\n",
    "\n",
    "acc = accuracy(actual_class, predicted_class)\n",
    "prec = precision(actual_class, predicted_class)\n",
    "rec = recall(actual_class, predicted_class)\n",
    "f1 = f_measure(actual_class, predicted_class)\n",
    "\n",
    "print(\"Accuracy:\", acc)\n",
    "print(\"Precision:\", prec)\n",
    "print(\"Recall:\", rec)\n",
    "print(\"F1 Score:\", f1)"
   ]
  }
 ],
 "metadata": {
  "kernelspec": {
   "display_name": "Python 3",
   "language": "python",
   "name": "python3"
  },
  "language_info": {
   "codemirror_mode": {
    "name": "ipython",
    "version": 3
   },
   "file_extension": ".py",
   "mimetype": "text/x-python",
   "name": "python",
   "nbconvert_exporter": "python",
   "pygments_lexer": "ipython3",
   "version": "3.8.18"
  },
  "orig_nbformat": 4,
  "vscode": {
   "interpreter": {
    "hash": "e7370f93d1d0cde622a1f8e1c04877d8463912d04d973331ad4851f04de6915a"
   }
  }
 },
 "nbformat": 4,
 "nbformat_minor": 2
}
